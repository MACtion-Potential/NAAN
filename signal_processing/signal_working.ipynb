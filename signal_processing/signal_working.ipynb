{
 "cells": [
  {
   "attachments": {},
   "cell_type": "markdown",
   "metadata": {},
   "source": [
    "This is a more formalized folder to contain the ideas we have been working on. Let's keep it neat!"
   ]
  },
  {
   "cell_type": "code",
   "execution_count": 2,
   "metadata": {},
   "outputs": [
    {
     "name": "stdout",
     "output_type": "stream",
     "text": [
      "0.24.1\n"
     ]
    }
   ],
   "source": [
    "#import these before running lower block, some weird thing with environment, we'll figure it out...\n",
    "import mne\n",
    "import numpy\n",
    "import matplotlib.pyplot as plt"
   ]
  },
  {
   "cell_type": "code",
   "execution_count": 5,
   "metadata": {},
   "outputs": [
    {
     "ename": "NameError",
     "evalue": "name 'pandas' is not defined",
     "output_type": "error",
     "traceback": [
      "\u001b[1;31m---------------------------------------------------------------------------\u001b[0m",
      "\u001b[1;31mNameError\u001b[0m                                 Traceback (most recent call last)",
      "\u001b[1;32mc:\\Users\\Jacob\\Maction\\injector_2022\\nicotine_2022\\signal_processing\\signal_working.ipynb Cell 3\u001b[0m in \u001b[0;36m<module>\u001b[1;34m\u001b[0m\n\u001b[0;32m     <a href='vscode-notebook-cell:/c%3A/Users/Jacob/Maction/injector_2022/nicotine_2022/signal_processing/signal_working.ipynb#W2sZmlsZQ%3D%3D?line=58'>59</a>\u001b[0m             \u001b[39mprint\u001b[39m(\u001b[39m\"\u001b[39m\u001b[39mdistributions generated...\u001b[39m\u001b[39m\"\u001b[39m)\n\u001b[0;32m     <a href='vscode-notebook-cell:/c%3A/Users/Jacob/Maction/injector_2022/nicotine_2022/signal_processing/signal_working.ipynb#W2sZmlsZQ%3D%3D?line=61'>62</a>\u001b[0m     \u001b[39mreturn\u001b[39;00m (alpha_dist, theta_dist)\n\u001b[1;32m---> <a href='vscode-notebook-cell:/c%3A/Users/Jacob/Maction/injector_2022/nicotine_2022/signal_processing/signal_working.ipynb#W2sZmlsZQ%3D%3D?line=64'>65</a>\u001b[0m alpha_dist, theta_dist \u001b[39m=\u001b[39m baseline(\u001b[39m\"\u001b[39;49m\u001b[39mJacobLong1\u001b[39;49m\u001b[39m\"\u001b[39;49m)\n",
      "\u001b[1;32mc:\\Users\\Jacob\\Maction\\injector_2022\\nicotine_2022\\signal_processing\\signal_working.ipynb Cell 3\u001b[0m in \u001b[0;36mbaseline\u001b[1;34m(user)\u001b[0m\n\u001b[0;32m     <a href='vscode-notebook-cell:/c%3A/Users/Jacob/Maction/injector_2022/nicotine_2022/signal_processing/signal_working.ipynb#W2sZmlsZQ%3D%3D?line=29'>30</a>\u001b[0m info \u001b[39m=\u001b[39m mne\u001b[39m.\u001b[39mcreate_info([\u001b[39m\"\u001b[39m\u001b[39mtimestamps\u001b[39m\u001b[39m\"\u001b[39m,\u001b[39m\"\u001b[39m\u001b[39mTP9\u001b[39m\u001b[39m\"\u001b[39m,\u001b[39m\"\u001b[39m\u001b[39mAF7\u001b[39m\u001b[39m\"\u001b[39m,\u001b[39m\"\u001b[39m\u001b[39mAF8\u001b[39m\u001b[39m\"\u001b[39m, \u001b[39m\"\u001b[39m\u001b[39mTP10\u001b[39m\u001b[39m\"\u001b[39m, \u001b[39m\"\u001b[39m\u001b[39mRight AUX\u001b[39m\u001b[39m\"\u001b[39m], \u001b[39m256\u001b[39m, ch_types\u001b[39m=\u001b[39m\u001b[39m\"\u001b[39m\u001b[39meeg\u001b[39m\u001b[39m\"\u001b[39m)\n\u001b[0;32m     <a href='vscode-notebook-cell:/c%3A/Users/Jacob/Maction/injector_2022/nicotine_2022/signal_processing/signal_working.ipynb#W2sZmlsZQ%3D%3D?line=31'>32</a>\u001b[0m \u001b[39m#imports the raw recording data from the Data folder, \u001b[39;00m\n\u001b[1;32m---> <a href='vscode-notebook-cell:/c%3A/Users/Jacob/Maction/injector_2022/nicotine_2022/signal_processing/signal_working.ipynb#W2sZmlsZQ%3D%3D?line=32'>33</a>\u001b[0m raw_recording \u001b[39m=\u001b[39m pandas\u001b[39m.\u001b[39mread_csv(\u001b[39mstr\u001b[39m(\u001b[39m\"\u001b[39m\u001b[39mData/\u001b[39m\u001b[39m\"\u001b[39m\u001b[39m+\u001b[39muser\u001b[39m+\u001b[39m\u001b[39m\"\u001b[39m\u001b[39m_Baseline.csv\u001b[39m\u001b[39m\"\u001b[39m))\n\u001b[0;32m     <a href='vscode-notebook-cell:/c%3A/Users/Jacob/Maction/injector_2022/nicotine_2022/signal_processing/signal_working.ipynb#W2sZmlsZQ%3D%3D?line=33'>34</a>\u001b[0m \u001b[39mprint\u001b[39m(\u001b[39m\"\u001b[39m\u001b[39mData imported...\u001b[39m\u001b[39m\"\u001b[39m)\n\u001b[0;32m     <a href='vscode-notebook-cell:/c%3A/Users/Jacob/Maction/injector_2022/nicotine_2022/signal_processing/signal_working.ipynb#W2sZmlsZQ%3D%3D?line=34'>35</a>\u001b[0m \u001b[39m#takes the raw recording and moves it into an MNE raw array object, allows for easier manipulation later\u001b[39;00m\n\u001b[0;32m     <a href='vscode-notebook-cell:/c%3A/Users/Jacob/Maction/injector_2022/nicotine_2022/signal_processing/signal_working.ipynb#W2sZmlsZQ%3D%3D?line=35'>36</a>\u001b[0m \u001b[39m#this is a different transformation than later as we are working with a Pandas object\u001b[39;00m\n",
      "\u001b[1;31mNameError\u001b[0m: name 'pandas' is not defined"
     ]
    }
   ],
   "source": [
    "#going to write a self contained function for windowing and processing pre-recorded data\n",
    "\n",
    "\n",
    "#this function will be given a window in the form of an mne array and return a list of the dominant frequencies\n",
    "def dominant_freq(window):\n",
    "    #performs a power spectral display function on both the alpha and theta range\n",
    "    psd_raw_alpha=numpy.array(mne.time_frequency.psd_multitaper(window,fmin=8,fmax=13,picks=[\"AF7\",\"AF8\",\"TP9\",\"TP10\"]))\n",
    "    psd_raw_theta=numpy.array(mne.time_frequency.psd_multitaper(window,fmin=4,fmax=8,picks=[\"AF7\",\"AF8\",\"TP9\",\"TP10\"]))\n",
    "####################################################################\n",
    "    store = numpy.sum(psd_raw_alpha[0], axis=0)\n",
    "    max_index=numpy.argmax(store)\n",
    "    dominant_alpha= psd_raw_alpha[1]\n",
    "    dominant_alpha= dominant_alpha[max_index]\n",
    "####################################################################\n",
    "    store = numpy.sum(psd_raw_theta[0], axis=0)\n",
    "    max_index=numpy.argmax(store)\n",
    "    dominant_theta= psd_raw_theta[1]\n",
    "    dominant_theta= dominant_theta[max_index]\n",
    "\n",
    "    \n",
    "\n",
    "    return [dominant_alpha, dominant_theta]\n",
    "\n",
    "\n",
    "#user will be the patient that we are working with, this will generate a distribution of dominant frequencies\n",
    "#then we can work with the descriptive statistical measures from this distribution\n",
    "def baseline(user):\n",
    "\n",
    "    #defines some parameters to be used by the MNE library, specific to our recording setup\n",
    "    info = mne.create_info([\"timestamps\",\"TP9\",\"AF7\",\"AF8\", \"TP10\", \"Right AUX\"], 256, ch_types=\"eeg\")\n",
    "\n",
    "    #imports the raw recording data from the Data folder, \n",
    "    raw_recording = pandas.read_csv(str(\"Data/\"+user+\"_Baseline.csv\"))\n",
    "    print(\"Data imported...\")\n",
    "    #takes the raw recording and moves it into an MNE raw array object, allows for easier manipulation later\n",
    "    #this is a different transformation than later as we are working with a Pandas object\n",
    "    raw_array = mne.io.RawArray(raw_recording.values.T/1000000, info)\n",
    "    print(\"Raw moved to raw_array...\")\n",
    "    #note that we are working with a setup recording at 256 Hz, thus a 256 time step sample represents one second\n",
    "    step=0 #sets the start point of our window\n",
    "    max=len(raw_array) #sets the max sample point of our recording\n",
    "    distribution=[]\n",
    "    alpha_dist = []\n",
    "    theta_dist = []\n",
    "    while step<max:\n",
    "        #takes a one second sample from the raw recording, this is a numpy array though...\n",
    "        raw_window=raw_array.get_data(picks=None, start=step,stop=(step+2048))\n",
    "        #again moves this array into ane MNE raw array object            \n",
    "        mne_window = mne.io.RawArray(raw_window, info)\n",
    "        #advances the sample window forward by a second\n",
    "        step=step+256\n",
    "        #print(\"dominant alpha and theta freqs:\", dominant_freq(mne_window))\n",
    "        try:\n",
    "            doms = dominant_freq(mne_window)\n",
    "            alpha_dist.append(round(doms[0],3))\n",
    "            theta_dist.append(round(doms[1],3))\n",
    "        \n",
    "        except ValueError:\n",
    "            print(\"distributions generated...\")\n",
    "\n",
    "\n",
    "    return (alpha_dist, theta_dist)\n",
    "        \n",
    "        \n",
    "alpha_dist, theta_dist = baseline(\"JacobLong1\")"
   ]
  },
  {
   "cell_type": "code",
   "execution_count": 4,
   "metadata": {},
   "outputs": [
    {
     "name": "stdout",
     "output_type": "stream",
     "text": [
      "[8.0, 8.625, 8.75, 8.75, 8.75, 8.75, 9.125, 9.375, 9.375, 9.375, 9.375, 9.375, 9.375, 9.25, 9.125, 8.625, 8.0, 8.0, 9.0, 8.0, 8.5, 8.125, 8.0, 8.0, 8.125, 8.0, 8.0, 8.0, 8.0, 8.0, 8.0, 8.0, 8.0, 8.0, 8.0, 8.0, 8.0, 8.125, 8.0, 8.0, 8.0, 12.125, 8.0, 8.75, 8.25, 8.375, 8.375, 8.625, 8.125, 8.125, 8.0, 8.25, 8.25, 8.25, 8.25, 8.25, 8.25, 8.125, 8.25, 8.125, 8.625, 8.625, 8.625, 8.0, 8.625, 8.0, 8.0, 8.0, 8.0, 8.0, 8.0, 8.0, 8.0, 8.0, 8.0, 8.0, 8.0, 8.125, 8.0, 8.0, 8.0, 8.625, 8.75, 8.875, 8.5, 8.125, 8.625, 8.5, 8.125, 8.125, 8.0, 8.0, 8.0, 8.0, 8.0, 8.0, 8.0, 8.125, 8.0, 8.0, 8.625, 8.0, 8.125, 8.125, 8.0, 8.0, 8.0, 8.0, 8.0, 8.125, 8.125, 8.125, 8.25, 8.25, 8.125, 8.125, 8.25, 8.125, 8.25, 8.25, 8.0, 8.0, 8.0, 11.25, 11.25, 8.0, 11.25, 8.625, 9.0, 8.75, 8.875, 8.25, 8.375, 8.375, 8.375, 8.375, 8.625, 8.5, 8.125, 9.75, 8.125, 9.75, 9.75, 9.5, 9.5, 9.5, 8.75, 8.75, 8.75, 8.75, 8.0, 8.25, 8.125, 8.125, 8.25, 8.125, 8.125, 8.125, 8.0, 8.0, 8.375, 11.625, 11.5, 8.0, 10.25, 10.25, 8.0, 8.0, 8.0, 8.0, 8.0, 8.0, 8.0, 8.0, 8.625, 8.625, 8.625, 8.625, 8.625, 8.625, 8.625, 10.125, 9.875, 11.625, 9.0, 9.0, 9.0, 9.0, 9.0, 9.0, 9.125, 9.125, 9.125, 9.125, 9.0, 9.125, 9.0, 9.0, 9.0, 8.0, 8.0, 9.125, 9.125, 9.25, 9.125, 9.125, 9.125, 8.0, 8.0, 8.0, 8.0, 8.125, 8.0, 8.0, 8.125, 8.625, 8.75, 8.75, 8.75, 8.75, 8.75, 8.75, 8.5, 9.0, 9.125, 9.0, 8.25, 8.0, 8.0, 8.0, 8.0, 8.0, 8.0, 8.0, 8.125, 8.0, 8.0, 8.125, 8.0, 8.0, 8.5, 8.0, 8.25, 8.125, 8.125, 8.125, 8.125, 8.25, 8.0, 8.0, 8.0, 8.0, 8.0, 8.0, 8.25, 8.625, 8.5, 8.5, 8.25, 8.25, 8.25, 8.25, 8.25, 8.375, 8.375, 8.0, 8.0, 8.25, 8.0, 10.25, 8.25, 8.125, 8.5, 8.5, 8.5, 8.5, 9.0, 8.75, 8.75, 8.5, 8.125, 8.75, 8.125, 8.625, 8.375, 8.375, 8.625, 8.5, 8.5, 8.5, 8.5, 8.375, 8.875, 10.375, 10.5, 8.875, 8.875, 9.0, 8.875, 8.875, 8.0, 8.0, 8.625, 8.0, 8.0, 8.0, 8.0, 8.0, 8.0, 8.0, 8.0, 8.0, 8.0, 8.0, 9.0, 9.0, 8.5, 10.625, 10.25, 9.25, 9.25, 8.125, 8.125, 8.25, 8.25, 8.25, 8.25, 8.125, 8.0, 8.125, 8.0, 8.0, 8.0, 8.0, 8.0, 9.5, 10.0, 8.75, 10.0, 9.875, 9.875, 9.75, 9.875, 10.0, 9.375, 9.25, 9.25, 9.25, 9.25, 8.125, 8.125, 8.0, 9.375, 8.875, 8.0, 8.0, 8.0, 8.0, 8.0, 8.0, 8.125, 8.625, 8.125, 8.0, 8.0, 8.0, 8.0, 8.125, 8.0, 8.0, 8.0, 8.25, 8.75, 8.0, 8.0, 8.0, 8.125, 8.125, 8.125, 8.125, 8.125, 8.25, 8.25, 8.25, 8.0, 8.125, 8.125, 8.125, 8.125, 8.125, 10.625, 10.625, 10.875, 8.25, 8.25, 8.25, 9.5, 9.375, 9.5, 8.25, 8.0, 8.0, 8.0, 8.0, 8.0, 8.5, 8.5, 8.5, 8.5, 8.5, 8.875, 8.25, 8.125, 8.125, 8.125, 8.0, 8.25, 8.0, 9.0, 9.0, 8.375, 8.375, 8.0, 8.25, 8.0, 8.0, 8.0, 8.125, 8.125, 8.125, 8.0, 8.125, 8.0, 8.0, 8.0, 8.0, 8.0, 8.0, 8.0, 8.125, 8.125, 8.125, 8.125, 8.25, 8.0, 8.0, 8.5, 8.75, 10.5, 8.625, 10.5, 8.125, 8.25, 8.125, 8.0, 8.0, 8.0, 8.0, 8.25, 8.0, 8.375, 8.125, 8.125, 8.125, 8.125, 8.125, 8.0, 8.0, 8.375, 9.5, 8.25, 8.25, 9.375, 8.25, 8.25, 8.25, 8.25, 8.125, 8.0, 8.0, 8.0, 8.0, 8.0, 8.125, 8.25, 8.25, 9.75, 8.0, 8.0, 8.375, 8.375, 8.375, 8.5, 8.5, 8.375, 8.375, 8.375, 8.125, 8.0, 8.0, 8.0, 8.0, 8.125, 8.125, 8.125, 8.0, 10.0, 10.0, 10.0, 10.0, 10.0, 10.0, 8.375, 8.375, 8.375, 8.375, 8.375, 8.25, 8.25, 8.25, 8.25, 8.125, 8.125, 8.125, 8.75, 8.75, 8.75, 8.75, 9.0, 8.0, 9.125, 8.625, 9.0, 8.625, 8.125, 8.0, 8.625, 11.75, 8.125, 8.0, 8.5, 8.375, 8.5, 8.25, 8.625, 8.5, 8.5, 8.625, 8.625, 8.625, 8.625, 8.375, 8.375, 8.25, 8.25, 8.25, 8.25, 8.5, 8.125, 8.0, 11.875, 8.125, 8.0, 8.0, 11.875, 8.0, 8.0, 8.125, 8.125, 8.125, 8.125, 8.125, 8.0, 8.625, 8.75, 9.5, 9.559, 9.493, 9.58, 9.705, 8.249, 8.723, 8.554, 9.423]\n",
      "[4.0, 4.125, 4.0, 4.0, 4.0, 4.125, 4.0, 4.0, 4.0, 4.0, 4.0, 4.0, 4.0, 4.0, 4.0, 4.125, 4.0, 4.0, 4.0, 4.0, 4.0, 4.875, 4.875, 4.875, 4.875, 5.0, 4.875, 4.875, 4.625, 4.125, 4.125, 4.125, 4.125, 4.125, 6.5, 4.25, 4.25, 4.125, 4.125, 4.125, 4.125, 4.0, 4.0, 5.0, 5.0, 4.375, 5.0, 4.25, 4.25, 4.25, 4.875, 4.125, 4.125, 4.125, 4.25, 4.75, 4.75, 4.125, 4.125, 4.0, 4.0, 4.0, 4.0, 4.0, 4.0, 6.0, 4.0, 4.0, 4.0, 4.0, 4.0, 7.0, 4.25, 4.875, 4.25, 4.25, 4.25, 4.375, 4.375, 4.0, 4.125, 4.125, 4.25, 4.125, 4.125, 4.25, 4.25, 5.875, 4.0, 4.0, 4.0, 4.0, 4.0, 4.0, 4.125, 4.125, 4.125, 4.125, 4.25, 4.125, 4.125, 4.0, 4.25, 4.0, 4.25, 4.0, 4.25, 4.25, 4.25, 4.0, 4.25, 4.375, 4.375, 4.375, 4.375, 4.25, 4.5, 4.5, 4.375, 4.375, 4.375, 4.625, 4.25, 4.0, 4.0, 4.125, 4.0, 4.0, 4.0, 4.375, 4.0, 4.0, 4.0, 4.0, 4.0, 4.0, 4.0, 4.25, 4.25, 4.25, 4.125, 4.125, 4.125, 4.125, 4.125, 4.125, 4.0, 4.0, 4.125, 4.0, 4.0, 4.0, 4.125, 4.125, 4.0, 4.125, 4.0, 4.0, 4.125, 4.125, 6.75, 6.75, 6.75, 6.75, 6.625, 6.125, 4.25, 4.375, 4.375, 4.5, 4.25, 4.5, 4.0, 4.375, 4.0, 6.5, 4.25, 4.0, 4.0, 4.0, 4.0, 4.0, 4.125, 4.0, 4.0, 4.25, 4.0, 4.0, 4.0, 4.0, 4.125, 4.25, 4.125, 4.125, 4.0, 4.0, 4.25, 4.0, 5.625, 4.125, 4.0, 4.0, 4.0, 4.0, 4.5, 4.0, 4.5, 4.5, 4.5, 4.625, 4.75, 4.25, 4.25, 4.0, 4.125, 5.25, 5.25, 5.25, 5.25, 5.25, 5.25, 5.375, 5.0, 4.0, 4.0, 4.0, 4.125, 4.0, 4.0, 4.0, 4.0, 4.0, 4.0, 4.0, 4.0, 4.0, 4.0, 4.0, 7.625, 4.0, 4.0, 4.0, 4.0, 4.0, 4.0, 5.625, 5.875, 4.75, 4.125, 4.25, 4.125, 4.25, 4.25, 4.125, 4.25, 4.5, 6.0, 6.0, 5.375, 5.375, 6.125, 6.125, 5.5, 5.375, 5.5, 6.25, 5.875, 4.0, 4.0, 5.75, 4.0, 4.0, 4.0, 4.0, 4.375, 4.375, 4.0, 4.625, 4.125, 5.0, 5.0, 6.25, 4.0, 4.0, 4.0, 4.0, 4.0, 4.0, 4.0, 4.125, 5.25, 4.0, 4.0, 4.0, 4.0, 4.0, 4.0, 4.25, 4.125, 4.125, 4.75, 4.75, 4.0, 4.0, 4.0, 4.0, 4.0, 4.0, 4.0, 4.0, 4.0, 4.0, 4.0, 4.0, 4.0, 4.0, 4.0, 4.0, 4.0, 4.625, 4.625, 4.625, 4.625, 4.625, 4.625, 4.75, 4.0, 4.125, 4.125, 4.125, 4.0, 4.0, 4.0, 4.0, 4.0, 4.25, 4.25, 4.375, 4.375, 4.375, 4.0, 4.0, 4.0, 4.0, 4.0, 4.0, 4.125, 4.25, 4.0, 4.0, 4.875, 4.0, 4.0, 4.0, 4.0, 4.0, 4.375, 4.0, 4.0, 4.125, 4.0, 4.125, 4.125, 7.375, 7.375, 7.375, 7.375, 7.375, 4.0, 4.625, 4.625, 4.125, 4.625, 4.75, 4.75, 4.125, 5.0, 4.0, 4.0, 4.0, 4.0, 4.125, 4.0, 4.25, 4.125, 4.125, 4.125, 4.125, 4.375, 4.125, 4.125, 4.25, 4.0, 4.0, 4.0, 4.0, 4.0, 4.375, 4.375, 4.375, 4.125, 4.0, 4.25, 4.25, 4.125, 4.25, 4.25, 4.125, 4.25, 4.25, 4.0, 4.0, 4.5, 4.625, 4.5, 4.5, 4.625, 4.5, 4.75, 4.125, 4.0, 4.0, 4.125, 4.125, 4.125, 4.0, 4.0, 4.125, 4.125, 4.0, 4.0, 4.0, 4.375, 4.375, 4.125, 4.125, 4.125, 4.25, 4.25, 4.0, 4.25, 4.25, 4.125, 5.875, 4.125, 4.0, 4.0, 4.0, 4.125, 4.0, 4.125, 4.125, 4.0, 4.0, 4.0, 4.125, 4.125, 7.875, 4.375, 4.375, 4.375, 4.375, 4.375, 4.5, 4.375, 4.375, 4.375, 4.375, 6.25, 4.0, 4.125, 4.125, 4.375, 4.0, 4.0, 4.0, 4.125, 4.0, 4.0, 4.0, 4.375, 4.5, 5.25, 4.0, 4.625, 5.125, 4.375, 5.375, 5.375, 5.25, 4.375, 4.25, 5.25, 5.375, 4.125, 4.125, 4.125, 4.125, 4.125, 4.0, 4.0, 4.0, 4.125, 4.125, 4.125, 4.0, 4.25, 4.25, 4.25, 4.0, 4.0, 6.625, 4.0, 4.0, 4.375, 4.375, 4.375, 4.375, 4.375, 4.375, 4.375, 4.625, 5.125, 4.5, 4.0, 4.5, 4.375, 4.125, 4.125, 4.125, 4.125, 4.625, 4.25, 4.125, 4.125, 4.625, 4.125, 4.625, 4.0, 4.0, 4.875, 5.0, 4.25, 4.0, 4.0, 4.0, 4.0, 4.0, 4.0, 4.0, 4.0, 4.875, 4.0, 4.25, 4.25, 4.125, 4.125, 4.375, 4.375, 4.25, 4.0, 4.5, 4.375, 4.375, 4.375, 4.5, 4.0, 4.875, 5.0, 4.0, 4.0, 4.0, 4.0, 4.125, 4.125, 4.25, 4.321, 4.37, 6.387, 6.254, 4.125, 4.172, 5.499, 7.853]\n"
     ]
    },
    {
     "data": {
      "text/plain": [
       "Text(0.5, 0, 'Dominant Frequency')"
      ]
     },
     "execution_count": 4,
     "metadata": {},
     "output_type": "execute_result"
    },
    {
     "data": {
      "image/png": "[encoded data removed]",
      "text/plain": [
       "<Figure size 432x288 with 1 Axes>"
      ]
     },
     "metadata": {
      "needs_background": "light"
     },
     "output_type": "display_data"
    }
   ],
   "source": [
    "print(alpha_dist)\n",
    "print(theta_dist)\n",
    "bin_list = numpy.arange(4,13,.15) # fill in the function\n",
    "\n",
    "fig = plt.figure()\n",
    "plt.hist(alpha_dist,bin_list, alpha=0.5)\n",
    "plt.hist(theta_dist,bin_list, alpha=0.5)\n",
    "\n",
    "\n",
    "plt.ylabel('Number of occurances')\n",
    "plt.xlabel('Dominant Frequency')"
   ]
  },
  {
   "cell_type": "code",
   "execution_count": 11,
   "metadata": {},
   "outputs": [],
   "source": [
    "#this is all the code that Alex used to initialize the Muse stream and take live data\n",
    "\n",
    "import numpy # Module that simplifies computations on matrices\n",
    "import matplotlib.pyplot as plt  # Module used for plotting\n",
    "from pylsl import StreamInlet, resolve_byprop  # Module to receive EEG data\n",
    "import muselsl_utils as muselsl_utils  # Our own utility functions\n",
    "import utils\n",
    "import scipy.stats\n",
    "import statistics\n",
    "import time \n"
   ]
  },
  {
   "cell_type": "code",
   "execution_count": 11,
   "metadata": {},
   "outputs": [
    {
     "name": "stdout",
     "output_type": "stream",
     "text": [
      "Looking for an EEG stream...\n"
     ]
    },
    {
     "ename": "NameError",
     "evalue": "name 'pylsl' is not defined",
     "output_type": "error",
     "traceback": [
      "\u001b[1;31m---------------------------------------------------------------------------\u001b[0m",
      "\u001b[1;31mNameError\u001b[0m                                 Traceback (most recent call last)",
      "\u001b[1;32mc:\\Users\\Jacob\\Maction\\injector_2022\\nicotine_2022\\signal_processing\\signal_working.ipynb Cell 6\u001b[0m in \u001b[0;36m<module>\u001b[1;34m\u001b[0m\n\u001b[0;32m     <a href='vscode-notebook-cell:/c%3A/Users/Jacob/Maction/injector_2022/nicotine_2022/signal_processing/signal_working.ipynb#W5sZmlsZQ%3D%3D?line=38'>39</a>\u001b[0m \u001b[39m# Search for active LSL streams\u001b[39;00m\n\u001b[0;32m     <a href='vscode-notebook-cell:/c%3A/Users/Jacob/Maction/injector_2022/nicotine_2022/signal_processing/signal_working.ipynb#W5sZmlsZQ%3D%3D?line=39'>40</a>\u001b[0m \u001b[39mprint\u001b[39m(\u001b[39m'\u001b[39m\u001b[39mLooking for an EEG stream...\u001b[39m\u001b[39m'\u001b[39m)\n\u001b[1;32m---> <a href='vscode-notebook-cell:/c%3A/Users/Jacob/Maction/injector_2022/nicotine_2022/signal_processing/signal_working.ipynb#W5sZmlsZQ%3D%3D?line=40'>41</a>\u001b[0m streams \u001b[39m=\u001b[39m pylsl\u001b[39m.\u001b[39mresolve_byprop(\u001b[39m'\u001b[39m\u001b[39mtype\u001b[39m\u001b[39m'\u001b[39m, \u001b[39m'\u001b[39m\u001b[39mEEG\u001b[39m\u001b[39m'\u001b[39m, timeout\u001b[39m=\u001b[39m\u001b[39m2\u001b[39m)\n\u001b[0;32m     <a href='vscode-notebook-cell:/c%3A/Users/Jacob/Maction/injector_2022/nicotine_2022/signal_processing/signal_working.ipynb#W5sZmlsZQ%3D%3D?line=41'>42</a>\u001b[0m \u001b[39mif\u001b[39;00m \u001b[39mlen\u001b[39m(streams) \u001b[39m==\u001b[39m \u001b[39m0\u001b[39m:\n\u001b[0;32m     <a href='vscode-notebook-cell:/c%3A/Users/Jacob/Maction/injector_2022/nicotine_2022/signal_processing/signal_working.ipynb#W5sZmlsZQ%3D%3D?line=42'>43</a>\u001b[0m     \u001b[39mraise\u001b[39;00m \u001b[39mRuntimeError\u001b[39;00m(\u001b[39m'\u001b[39m\u001b[39mCan\u001b[39m\u001b[39m\\'\u001b[39;00m\u001b[39mt find EEG stream.\u001b[39m\u001b[39m'\u001b[39m)\n",
      "\u001b[1;31mNameError\u001b[0m: name 'pylsl' is not defined"
     ]
    }
   ],
   "source": [
    "import utils\n",
    "# Initialize the bluetooth stream to the Arduino\n",
    "#this connects to the arduino, breaks \n",
    "#serial_port = serial.Serial(\"COM4\", baudrate=9600, timeout=10)\n",
    "#serial_port.flushInput()\n",
    "# Handy little enum to make code more readable\n",
    "class Band:\n",
    "    Delta = 0\n",
    "    Theta = 1\n",
    "    Alpha = 2\n",
    "    Beta = 3\n",
    "\n",
    "blink_types = [\"Right Wink\", \"Left Wink\", \"Normal Blink\", \"Nothing\"]\n",
    "\n",
    "\"\"\" EXPERIMENTAL PARAMETERS \"\"\"\n",
    "# Modify these to change aspects of the signal processing\n",
    "\n",
    "# Length of the EEG data buffer (in seconds)\n",
    "# This buffer will hold last n seconds of data and be used for calculations\n",
    "BUFFER_LENGTH = 10\n",
    "\n",
    "# This is the batch size that out code will grab from the buffer when it is ready to process the new data\n",
    "EPOCH_LENGTH = 4\n",
    "\n",
    "# Amount of overlap between two consecutive epochs (in seconds)\n",
    "OVERLAP_LENGTH = 0\n",
    "\n",
    "# Amount to 'shift' the start of each next consecutive epoch\n",
    "SHIFT_LENGTH = EPOCH_LENGTH - OVERLAP_LENGTH\n",
    "\n",
    "# Index of the channel(s) (electrodes) to be used\n",
    "# 0 = left ear, 1 = left forehead, 2 = right forehead, 3 = right ear\n",
    "INDEX_CHANNEL = [0, 1, 2, 3]\n",
    "\n",
    "if __name__ == \"__main__\":\n",
    "\n",
    "    \"\"\" 1. CONNECT TO EEG STREAM \"\"\"\n",
    "\n",
    "    # Search for active LSL streams\n",
    "    print('Looking for an EEG stream...')\n",
    "    streams = pylsl.resolve_byprop('type', 'EEG', timeout=2)\n",
    "    if len(streams) == 0:\n",
    "        raise RuntimeError('Can\\'t find EEG stream.')\n",
    "\n",
    "    # Set active EEG stream to inlet and apply time correction\n",
    "    print(\"Start acquiring data\")\n",
    "    inlet = StreamInlet(streams[0], max_chunklen=12)\n",
    "    eeg_time_correction = inlet.time_correction()\n",
    "\n",
    "    # Get the stream info and description\n",
    "    info = inlet.info()\n",
    "    description = info.desc()\n",
    "\n",
    "    # Get the sampling frequency\n",
    "    # This is an important value that represents how many EEG data points are\n",
    "    # collected in a second. This influences our frequency band calculation.\n",
    "    # for the Muse 2016, this should always be 256\n",
    "    fs = int(info.nominal_srate())\n",
    "\n",
    "    \"\"\" 2. INITIALIZE BUFFERS \"\"\"\n",
    "\n",
    "    # Initialize raw EEG data buffer - 256*5 x 4 array to store the last 5 seconds\n",
    "    eeg_buffer = numpy.zeros((int(fs * BUFFER_LENGTH), 4))\n",
    "    filter_state = None  # for use with the notch filter\n",
    "\n",
    "    # Compute the number of epochs in \"buffer_length\"\n",
    "    n_win_test = int(numpy.floor((BUFFER_LENGTH - EPOCH_LENGTH) /\n",
    "                              SHIFT_LENGTH + 1))\n",
    "\n",
    "    # Initialize the band power buffer (for plotting)\n",
    "    # bands will be ordered: [delta, theta, alpha, beta]\n",
    "    band_buffer = numpy.zeros((n_win_test, 4))\n",
    "\n",
    "    \"\"\" 3. GET DATA \"\"\"\n",
    "    info = mne.create_info([\"TP9\",\"AF7\",\"AF8\", \"TP10\"], 256, ch_types=\"eeg\")\n",
    "    # The try/except structure allows to quit the while loop by aborting the\n",
    "    # script with <Ctrl-C>\n",
    "    print('Press Ctrl-C in the console to break the while loop.')\n",
    "\n",
    "    a_store=[]\n",
    "    t_store=[]\n",
    "    try:\n",
    "        counter=0\n",
    "        # The following loop acquires data, computes band powers, and calculates neurofeedback metrics based on those band powers\n",
    "        while True:\n",
    "            time.sleep(4)\n",
    "            \"\"\" 3.1 ACQUIRE DATA \"\"\"\n",
    "            # Obtain EEG data from the LSL stream\n",
    "            eeg_data, timestamp = inlet.pull_chunk(\n",
    "                timeout=1, max_samples=int(SHIFT_LENGTH * fs))\n",
    "\n",
    "\n",
    "            # Only keep the channel we're interested in\n",
    "            ch_data = numpy.array(eeg_data)[:, 0:4]\n",
    "\n",
    "            # Update EEG buffer with the new data\n",
    "            #this eeg_buffer is a 5 second store of data, sampled at 256 Hz, it is a numpy array\n",
    "            eeg_buffer, filter_state = muselsl_utils.update_buffer(\n",
    "                eeg_buffer, ch_data, notch=False,\n",
    "                filter_state=filter_state)\n",
    "            \n",
    "            if eeg_buffer[0,0] != 0:\n",
    "\n",
    "                \"\"\" 3.2 COMPUTE BAND POWERS \"\"\"\n",
    "                # Get newest samples from the buffer\n",
    "                data_epoch = muselsl_utils.get_last_data(eeg_buffer,\n",
    "                                             EPOCH_LENGTH * fs)\n",
    "            \n",
    "                data_epoch = numpy.transpose(data_epoch)\n",
    "                mne_epoch = mne.io.RawArray(data_epoch, info)\n",
    "            \n",
    "                freqs = dominant_freq(mne_epoch)\n",
    "\n",
    "                if len(a_store) == 60:\n",
    "                    a_store.pop(0) \n",
    "                    a_store.append(round(freqs[0],3))\n",
    "                else:\n",
    "                    a_store.append(round(freqs[0],3))\n",
    "            \n",
    "                if len(t_store) == 60:\n",
    "                    t_store.pop(0) \n",
    "                    t_store.append(round(freqs[0],3))\n",
    "                else:\n",
    "                    t_store.append(round(freqs[1],3))\n",
    "                print((a_store))\n",
    "                \n",
    "\n",
    "            if len(a_store)==60: ####FIX THIS IN POST\n",
    "                ap = scipy.stats.mannwhitneyu(x=a_store,y=alpha_dist, use_continuity=True, alternative='less', axis=0, method='auto')\n",
    "                tp = scipy.stats.mannwhitneyu(x=t_store,y=theta_dist, use_continuity=True, alternative='less', axis=0, method='auto')\n",
    "                if ap[1]+tp[1] < 0.05:\n",
    "                    print(\"The patient is experiencing nicotwithdrawal, p-val = \", ap[1]+tp[1])\n",
    "                    state = 1\n",
    "                else:\n",
    "                    print(\"The patient is not experiencing nicotwithdrawal, p-val = \", ap[1]+tp[1])\n",
    "                    state = 0 \n",
    "\n",
    "            \n",
    "                        \n",
    "                    \n",
    "            #data_epoch=data_epoch.transpose\n",
    "            #raw_array = mne.io.RawArray(data_epoch, info)\n",
    "\n",
    "            #commenting this out for now, not sure what it does, but pretty sure we dont need it\n",
    "            #print('Alpha Relaxation: ', alpha_metric)\n",
    "            #x = utils.compute_features(data_epoch, filter=None, pca=None, use_original=True)\n",
    "            #probabilities = classifier.predict_proba([x])\n",
    "           # if np.any(probabilities > 0.8): \n",
    "               # print(f\"\\r{blink_types[np.argmax(probabilities)]} : {probabilities.max()}\")\n",
    "               # serial_port.write(bytes(str(np.argmax(probabilities)), encoding='utf-8'))\n",
    "\n",
    "            # Beta Protocol:\n",
    "            # Beta waves have been used as a measure of mental activity and concentration\n",
    "            # This beta over theta ratio is commonly used as neurofeedback for ADHD\n",
    "            # beta_metric = smooth_band_powers[Band.Beta] / \\\n",
    "            #     smooth_band_powers[Band.Theta]\n",
    "            # print('Beta Concentration: ', beta_metric)\n",
    "\n",
    "            # Alpha/Theta Protocol:\n",
    "            # This is another popular neurofeedback metric for stress reduction\n",
    "            # Higher theta over alpha is supposedly associated with reduced anxiety\n",
    "            # theta_metric = smooth_band_powers[Band.Theta] / \\\n",
    "            #     smooth_band_powers[Band.Alpha]\n",
    "            # print('Theta Relaxation: ', theta_metric)\n",
    "\n",
    "    except KeyboardInterrupt:\n",
    "        #serial_port.close()\n",
    "        print('Closing!')"
   ]
  },
  {
   "cell_type": "code",
   "execution_count": 9,
   "metadata": {},
   "outputs": [
    {
     "ename": "NameError",
     "evalue": "name 'jedi' is not defined",
     "output_type": "error",
     "traceback": [
      "\u001b[1;31m---------------------------------------------------------------------------\u001b[0m",
      "\u001b[1;31mNameError\u001b[0m                                 Traceback (most recent call last)",
      "\u001b[1;32mc:\\Users\\Jacob\\Maction\\injector_2022\\nicotine_2022\\signal_processing\\signal_working.ipynb Cell 7\u001b[0m in \u001b[0;36m<module>\u001b[1;34m\u001b[0m\n\u001b[1;32m----> <a href='vscode-notebook-cell:/c%3A/Users/Jacob/Maction/injector_2022/nicotine_2022/signal_processing/signal_working.ipynb#W6sZmlsZQ%3D%3D?line=0'>1</a>\u001b[0m \u001b[39mprint\u001b[39m(jedi\u001b[39m.\u001b[39m__version__)\n",
      "\u001b[1;31mNameError\u001b[0m: name 'jedi' is not defined"
     ]
    }
   ],
   "source": [
    "print(jedi.__version__)\n"
   ]
  }
 ],
 "metadata": {
  "kernelspec": {
   "display_name": "weeping_angel_env",
   "language": "python",
   "name": "python3"
  },
  "language_info": {
   "codemirror_mode": {
    "name": "ipython",
    "version": 3
   },
   "file_extension": ".py",
   "mimetype": "text/x-python",
   "name": "python",
   "nbconvert_exporter": "python",
   "pygments_lexer": "ipython3",
   "version": "3.10.6"
  },
  "orig_nbformat": 4,
  "vscode": {
   "interpreter": {
    "hash": "3f46fde33f7dfdf17f7b7ce96d4ed472c3254b003eadcebf708e7a06189af734"
   }
  }
 },
 "nbformat": 4,
 "nbformat_minor": 2
}
