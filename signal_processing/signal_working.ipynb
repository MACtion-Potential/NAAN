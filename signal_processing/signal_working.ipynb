{
 "cells": [
  {
   "attachments": {},
   "cell_type": "markdown",
   "metadata": {},
   "source": [
    "This is a more formalized folder to contain the ideas we have been working on. Let's keep it neat!"
   ]
  },
  {
   "cell_type": "code",
   "execution_count": null,
   "metadata": {},
   "outputs": [],
   "source": [
    "#import these before running lower block, some weird thing with environment, we'll figure it out...\n",
    "import pandas\n",
    "import mne "
   ]
  },
  {
   "cell_type": "code",
   "execution_count": 1,
   "metadata": {},
   "outputs": [
    {
     "name": "stdout",
     "output_type": "stream",
     "text": [
      "Data imported...\n",
      "Creating RawArray with float64 data, n_channels=6, n_times=6428\n",
      "    Range : 0 ... 6427 =      0.000 ...    25.105 secs\n",
      "Ready.\n",
      "Raw moved to raw_array...\n",
      "Creating RawArray with float64 data, n_channels=6, n_times=256\n",
      "    Range : 0 ... 255 =      0.000 ...     0.996 secs\n",
      "Ready.\n",
      "    Using multitaper spectrum estimation with 7 DPSS windows\n",
      "    Using multitaper spectrum estimation with 7 DPSS windows\n",
      "(array([[2.81507894e-10, 1.61092460e-10, 1.43371323e-10, 1.47882375e-10,\n",
      "        1.41858260e-10, 8.64495142e-11],\n",
      "       [5.77194876e-10, 2.84879255e-10, 1.27726274e-10, 1.45699442e-10,\n",
      "        1.35910064e-10, 1.41769242e-10],\n",
      "       [1.10398053e-09, 4.91269206e-10, 3.24549620e-10, 1.99243516e-10,\n",
      "        1.26375991e-10, 1.57683651e-10],\n",
      "       [7.04160356e-10, 6.27871970e-10, 6.46362718e-10, 6.33388925e-10,\n",
      "        4.78882641e-10, 3.94842397e-10]]), array([ 8.,  9., 10., 11., 12., 13.]))\n"
     ]
    },
    {
     "ename": "NameError",
     "evalue": "name 'dominant_alpha' is not defined",
     "output_type": "error",
     "traceback": [
      "\u001b[1;31m---------------------------------------------------------------------------\u001b[0m",
      "\u001b[1;31mNameError\u001b[0m                                 Traceback (most recent call last)",
      "\u001b[1;32mc:\\Users\\Jacob\\Maction\\injector_2022\\nicotine_2022\\signal_processing\\signal_working.ipynb Cell 1\u001b[0m in \u001b[0;36m<module>\u001b[1;34m\u001b[0m\n\u001b[0;32m     <a href='vscode-notebook-cell:/c%3A/Users/Jacob/Maction/injector_2022/nicotine_2022/signal_processing/signal_working.ipynb#W0sZmlsZQ%3D%3D?line=44'>45</a>\u001b[0m         step\u001b[39m=\u001b[39mstep\u001b[39m+\u001b[39m\u001b[39m256\u001b[39m\n\u001b[0;32m     <a href='vscode-notebook-cell:/c%3A/Users/Jacob/Maction/injector_2022/nicotine_2022/signal_processing/signal_working.ipynb#W0sZmlsZQ%3D%3D?line=45'>46</a>\u001b[0m         dominant_freq(mne_window)\n\u001b[1;32m---> <a href='vscode-notebook-cell:/c%3A/Users/Jacob/Maction/injector_2022/nicotine_2022/signal_processing/signal_working.ipynb#W0sZmlsZQ%3D%3D?line=47'>48</a>\u001b[0m baseline(\u001b[39m\"\u001b[39;49m\u001b[39mJacob\u001b[39;49m\u001b[39m\"\u001b[39;49m)\n",
      "\u001b[1;32mc:\\Users\\Jacob\\Maction\\injector_2022\\nicotine_2022\\signal_processing\\signal_working.ipynb Cell 1\u001b[0m in \u001b[0;36mbaseline\u001b[1;34m(user)\u001b[0m\n\u001b[0;32m     <a href='vscode-notebook-cell:/c%3A/Users/Jacob/Maction/injector_2022/nicotine_2022/signal_processing/signal_working.ipynb#W0sZmlsZQ%3D%3D?line=43'>44</a>\u001b[0m \u001b[39m#advances the sample window forward by a second\u001b[39;00m\n\u001b[0;32m     <a href='vscode-notebook-cell:/c%3A/Users/Jacob/Maction/injector_2022/nicotine_2022/signal_processing/signal_working.ipynb#W0sZmlsZQ%3D%3D?line=44'>45</a>\u001b[0m step\u001b[39m=\u001b[39mstep\u001b[39m+\u001b[39m\u001b[39m256\u001b[39m\n\u001b[1;32m---> <a href='vscode-notebook-cell:/c%3A/Users/Jacob/Maction/injector_2022/nicotine_2022/signal_processing/signal_working.ipynb#W0sZmlsZQ%3D%3D?line=45'>46</a>\u001b[0m dominant_freq(mne_window)\n",
      "\u001b[1;32mc:\\Users\\Jacob\\Maction\\injector_2022\\nicotine_2022\\signal_processing\\signal_working.ipynb Cell 1\u001b[0m in \u001b[0;36mdominant_freq\u001b[1;34m(window)\u001b[0m\n\u001b[0;32m     <a href='vscode-notebook-cell:/c%3A/Users/Jacob/Maction/injector_2022/nicotine_2022/signal_processing/signal_working.ipynb#W0sZmlsZQ%3D%3D?line=10'>11</a>\u001b[0m \u001b[39mprint\u001b[39m(psd_raw_alpha)\n\u001b[0;32m     <a href='vscode-notebook-cell:/c%3A/Users/Jacob/Maction/injector_2022/nicotine_2022/signal_processing/signal_working.ipynb#W0sZmlsZQ%3D%3D?line=11'>12</a>\u001b[0m \u001b[39m#for loop to take the dominant frequency for alpha range\u001b[39;00m\n\u001b[0;32m     <a href='vscode-notebook-cell:/c%3A/Users/Jacob/Maction/injector_2022/nicotine_2022/signal_processing/signal_working.ipynb#W0sZmlsZQ%3D%3D?line=12'>13</a>\u001b[0m \u001b[39m####\u001b[39;00m\n\u001b[0;32m     <a href='vscode-notebook-cell:/c%3A/Users/Jacob/Maction/injector_2022/nicotine_2022/signal_processing/signal_working.ipynb#W0sZmlsZQ%3D%3D?line=13'>14</a>\u001b[0m \u001b[39m#this can be completed by another member if they wish\u001b[39;00m\n\u001b[0;32m     <a href='vscode-notebook-cell:/c%3A/Users/Jacob/Maction/injector_2022/nicotine_2022/signal_processing/signal_working.ipynb#W0sZmlsZQ%3D%3D?line=14'>15</a>\u001b[0m \u001b[39m####\u001b[39;00m\n\u001b[1;32m---> <a href='vscode-notebook-cell:/c%3A/Users/Jacob/Maction/injector_2022/nicotine_2022/signal_processing/signal_working.ipynb#W0sZmlsZQ%3D%3D?line=17'>18</a>\u001b[0m \u001b[39mreturn\u001b[39;00m [dominant_alpha, dominant_theta]\n",
      "\u001b[1;31mNameError\u001b[0m: name 'dominant_alpha' is not defined"
     ]
    }
   ],
   "source": [
    "#going to write a self contained function for windowing and processing pre-recorded data\n",
    "\n",
    "\n",
    "#this function will be given a window in the form of an mne array and return a list of the dominant frequencies\n",
    "def dominant_freq(window):\n",
    "    #performs a power spectral display function on both the alpha and theta range\n",
    "    psd_raw_alpha=mne.time_frequency.psd_multitaper(window,fmin=8,fmax=13,picks=[\"AF7\",\"AF8\",\"TP9\",\"TP10\"])\n",
    "    psd_raw_theta=mne.time_frequency.psd_multitaper(window,fmin=4,fmax=8,picks=[\"AF7\",\"AF8\",\"TP9\",\"TP10\"])\n",
    "    print(psd_raw_alpha) #this prints the array, just use it to see structure\n",
    "    #for loop to take the dominant frequency for alpha range seems easiest route\n",
    "    \n",
    "    ####\n",
    "    #this can be completed by another member if they wish\n",
    "    ####\n",
    "\n",
    "\n",
    "    return [dominant_alpha, dominant_theta]\n",
    "\n",
    "\n",
    "#user will be the patient that we are working with, this will generate a distribution of dominant frequencies\n",
    "#then we can work with the descriptive statistical measures from this distribution\n",
    "def baseline(user):\n",
    "\n",
    "    #defines some parameters to be used by the MNE library, specific to our recording setup\n",
    "    info = mne.create_info([\"timestamps\",\"TP9\",\"AF7\",\"AF8\", \"TP10\", \"Right AUX\"], 256, ch_types=\"eeg\")\n",
    "\n",
    "    #imports the raw recording data from the Data folder, \n",
    "    raw_recording = pandas.read_csv(str(\"Data/\"+user+\"_Baseline.csv\"))\n",
    "    print(\"Data imported...\")\n",
    "    #takes the raw recording and moves it into an MNE raw array object, allows for easier manipulation later\n",
    "    #this is a different transformation than later as we are working with a Pandas object\n",
    "    raw_array = mne.io.RawArray(raw_recording.values.T/1000000, info)\n",
    "    print(\"Raw moved to raw_array...\")\n",
    "    #note that we are working with a setup recording at 256 Hz, thus a 256 time step sample represents one second\n",
    "    step=0 #sets the start point of our window\n",
    "    max=len(raw_array) #sets the max sample point of our recording\n",
    "    distribution=[]\n",
    "    while step<max:\n",
    "        #takes a one second sample from the raw recording, this is a numpy array though...\n",
    "        raw_window=raw_array.get_data(picks=None, start=step,stop=(step+256))\n",
    "        #again moves this array into ane MNE raw array object            \n",
    "        mne_window = mne.io.RawArray(raw_window, info)\n",
    "        #advances the sample window forward by a second\n",
    "        step=step+256\n",
    "        dominant_freq(mne_window)\n",
    "\n",
    "baseline(\"Jacob\")"
   ]
  }
 ],
 "metadata": {
  "kernelspec": {
   "display_name": "weeping_angel_env",
   "language": "python",
   "name": "python3"
  },
  "language_info": {
   "codemirror_mode": {
    "name": "ipython",
    "version": 3
   },
   "file_extension": ".py",
   "mimetype": "text/x-python",
   "name": "python",
   "nbconvert_exporter": "python",
   "pygments_lexer": "ipython3",
   "version": "3.10.6 (tags/v3.10.6:9c7b4bd, Aug  1 2022, 21:53:49) [MSC v.1932 64 bit (AMD64)]"
  },
  "orig_nbformat": 4,
  "vscode": {
   "interpreter": {
    "hash": "3f46fde33f7dfdf17f7b7ce96d4ed472c3254b003eadcebf708e7a06189af734"
   }
  }
 },
 "nbformat": 4,
 "nbformat_minor": 2
}
