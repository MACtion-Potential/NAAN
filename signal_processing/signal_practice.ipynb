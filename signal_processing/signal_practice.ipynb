{
 "cells": [
  {
   "cell_type": "markdown",
   "metadata": {},
   "source": [
    "This is a practice file, working with EEG data from the muse and manipulating it. "
   ]
  },
  {
   "cell_type": "code",
   "execution_count": null,
   "metadata": {},
   "outputs": [],
   "source": [
    "#PRACTICE IMPORTING DATA\n",
    "\n",
    "#pandas is a library that makes working with large csv files faster and easier\n",
    "import pandas as pd\n",
    "\n",
    "#it is helpful to make a dictionary, to have convienient access to each data set\n",
    "\n",
    "raw_data={\n",
    "    Jacob_Practice_1:pd.read_csv(\"Data/Jacob/Jacob_Practice_1.csv\")\n",
    "    \n",
    "}\n",
    "\n",
    "#good idea to print the head of each dataset to verify that it has worked\n",
    "\n",
    "for key in raw_data:\n",
    "    print(f\"\\n{key}\") \n",
    "    print(raw.data[key].head())"
   ]
  }
 ],
 "metadata": {
  "kernelspec": {
   "display_name": "Python 3.10.6 64-bit",
   "language": "python",
   "name": "python3"
  },
  "language_info": {
   "name": "python",
   "version": "3.10.6"
  },
  "orig_nbformat": 4,
  "vscode": {
   "interpreter": {
    "hash": "b24840a5067b9560907736a4d123e6383354acaf974a4b953b8d4650b1c3167c"
   }
  }
 },
 "nbformat": 4,
 "nbformat_minor": 2
}
